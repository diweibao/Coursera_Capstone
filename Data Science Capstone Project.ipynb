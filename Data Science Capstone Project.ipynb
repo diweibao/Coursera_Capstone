{
    "cells": [
        {
            "metadata": {
                "collapsed": true
            },
            "cell_type": "markdown",
            "source": "# Data Science Capstone Project"
        },
        {
            "metadata": {},
            "cell_type": "markdown",
            "source": "### Part 1"
        },
        {
            "metadata": {},
            "cell_type": "markdown",
            "source": "This notebook will be mainly used for the capstone project"
        },
        {
            "metadata": {},
            "cell_type": "code",
            "source": "import pandas as pd\nimport numpy as np\nprint('Hello Capstone Project Course!')",
            "execution_count": 1,
            "outputs": [
                {
                    "output_type": "stream",
                    "text": "Hello Capstone Project Course!\n",
                    "name": "stdout"
                }
            ]
        },
        {
            "metadata": {},
            "cell_type": "markdown",
            "source": "### Part 2"
        },
        {
            "metadata": {},
            "cell_type": "code",
            "source": "!pip install bs4\nfrom bs4 import BeautifulSoup\nimport requests",
            "execution_count": 2,
            "outputs": [
                {
                    "output_type": "stream",
                    "text": "Collecting bs4\n  Downloading bs4-0.0.1.tar.gz (1.1 kB)\nRequirement already satisfied: beautifulsoup4 in /opt/conda/envs/Python-3.7-main/lib/python3.7/site-packages (from bs4) (4.9.1)\nRequirement already satisfied: soupsieve>1.2 in /opt/conda/envs/Python-3.7-main/lib/python3.7/site-packages (from beautifulsoup4->bs4) (2.0.1)\nBuilding wheels for collected packages: bs4\n  Building wheel for bs4 (setup.py) ... \u001b[?25ldone\n\u001b[?25h  Created wheel for bs4: filename=bs4-0.0.1-py3-none-any.whl size=1272 sha256=5b214d91a2a596ffb4a91f2fcc61a231d2eca8e5980964028dab5fd8a3b28b27\n  Stored in directory: /tmp/wsuser/.cache/pip/wheels/0a/9e/ba/20e5bbc1afef3a491f0b3bb74d508f99403aabe76eda2167ca\nSuccessfully built bs4\nInstalling collected packages: bs4\nSuccessfully installed bs4-0.0.1\n",
                    "name": "stdout"
                }
            ]
        },
        {
            "metadata": {},
            "cell_type": "code",
            "source": "url = 'https://en.wikipedia.org/wiki/List_of_postal_codes_of_Canada:_M'\ndata  = requests.get(url).text\nsoup = BeautifulSoup(data,\"html5lib\")\ntable = soup.find('tbody')\nlocation_table = pd.DataFrame(columns=[\"Postal Code\", \"Borough\",\"Neighborhood\"])\n\nfor index in range(1,len(table.find_all(\"tr\"))):\n    row = table.find_all(\"tr\")[index]\n    cols = row.find_all('td')\n    postal_code = cols[0].string.replace('\\n','')\n    borough = cols[1].string.replace('\\n','')\n    neighborhood = cols[2].string.replace('\\n','')\n    if neighborhood == 'Not assigned':\n        neighborhood = borough\n    location_table = location_table.append({\"Postal Code\":postal_code, \"Borough\":borough, \"Neighborhood\":neighborhood }, ignore_index=True)\nlocation_table=location_table[location_table['Borough'] != 'Not assigned']\n\nlocation_table.shape",
            "execution_count": 105,
            "outputs": [
                {
                    "output_type": "execute_result",
                    "execution_count": 105,
                    "data": {
                        "text/plain": "(103, 3)"
                    },
                    "metadata": {}
                }
            ]
        },
        {
            "metadata": {},
            "cell_type": "code",
            "source": "",
            "execution_count": null,
            "outputs": []
        }
    ],
    "metadata": {
        "kernelspec": {
            "name": "python3",
            "display_name": "Python 3.7",
            "language": "python"
        },
        "language_info": {
            "name": "python",
            "version": "3.7.10",
            "mimetype": "text/x-python",
            "codemirror_mode": {
                "name": "ipython",
                "version": 3
            },
            "pygments_lexer": "ipython3",
            "nbconvert_exporter": "python",
            "file_extension": ".py"
        }
    },
    "nbformat": 4,
    "nbformat_minor": 1
}